{
 "cells": [
  {
   "cell_type": "code",
   "execution_count": 1,
   "metadata": {
    "collapsed": true
   },
   "outputs": [],
   "source": [
    "from lab1.user_account_service import UserAccountService\n",
    "from injector import Injector"
   ]
  },
  {
   "cell_type": "code",
   "execution_count": 2,
   "metadata": {
    "collapsed": false
   },
   "outputs": [
    {
     "name": "stderr",
     "output_type": "stream",
     "text": [
      "2018-09-17 23:41:54,839 - INFO - [LogService]:LogService initialized.\n"
     ]
    },
    {
     "name": "stderr",
     "output_type": "stream",
     "text": [
      "2018-09-17 23:41:54,898 - INFO - [UserAccountService]: read csv file from D:\\workspace\\impls\\data_mining\\comp3009\\resource\\lab1\\bank.csv\n"
     ]
    }
   ],
   "source": [
    "injector = Injector()\n",
    "user_account_service = injector.get(UserAccountService)\n",
    "raw_df = user_account_service.from_csv('bank.csv')"
   ]
  },
  {
   "cell_type": "code",
   "execution_count": 3,
   "metadata": {},
   "outputs": [
    {
     "data": {
      "text/plain": [
       "0       30\n1       33\n2       35\n3       30\n4       59\n5       35\n6       36\n7       39\n8       41\n9       43\n10      39\n11      43\n12      36\n13      20\n14      31\n15      40\n16      56\n17      37\n18      25\n19      31\n20      38\n21      42\n22      44\n23      44\n24      26\n25      41\n26      55\n27      67\n28      56\n29      53\n        ..\n4491    35\n4492    32\n4493    28\n4494    26\n4495    48\n4496    30\n4497    31\n4498    31\n4499    45\n4500    38\n4501    34\n4502    42\n4503    60\n4504    42\n4505    32\n4506    42\n4507    33\n4508    42\n4509    51\n4510    36\n4511    46\n4512    40\n4513    49\n4514    38\n4515    32\n4516    33\n4517    57\n4518    57\n4519    28\n4520    44\nName: age, Length: 4521, dtype: int64"
      ]
     },
     "execution_count": 3,
     "metadata": {},
     "output_type": "execute_result"
    }
   ],
   "source": [
    "raw_df[\"age\"]"
   ]
  }
 ],
 "metadata": {
  "kernelspec": {
   "display_name": "Python 2",
   "language": "python",
   "name": "python2"
  },
  "language_info": {
   "codemirror_mode": {
    "name": "ipython",
    "version": 2
   },
   "file_extension": ".py",
   "mimetype": "text/x-python",
   "name": "python",
   "nbconvert_exporter": "python",
   "pygments_lexer": "ipython2",
   "version": "2.7.6"
  }
 },
 "nbformat": 4,
 "nbformat_minor": 0
}
